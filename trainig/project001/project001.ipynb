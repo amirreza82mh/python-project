{
  "nbformat": 4,
  "nbformat_minor": 0,
  "metadata": {
    "colab": {
      "provenance": []
    },
    "kernelspec": {
      "name": "python3",
      "display_name": "Python 3"
    },
    "language_info": {
      "name": "python"
    }
  },
  "cells": [
    {
      "cell_type": "markdown",
      "source": [
        "***data type:***\n",
        "\n",
        "\n",
        "---\n",
        "\n",
        "\n",
        "*   int \n",
        "*   float\n",
        "*   str \n",
        "*   bool\n",
        "*   complex\n",
        "*   list\n",
        "*   tuple \n",
        "*   dict\n",
        "*   set"
      ],
      "metadata": {
        "id": "9CgKm41sJkbv"
      }
    },
    {
      "cell_type": "code",
      "source": [
        "'''\n",
        "Data type:\n",
        "'''\n",
        "i = 5\n",
        "print(type(i))\n",
        "print(i) \n",
        "print(i)\n",
        "\n",
        "f = 5.0\n",
        "print(type(f))\n",
        "print(f)\n",
        "\n",
        "s = 'hello world!'\n",
        "print(type(s))\n",
        "print(s)\n",
        "\n",
        "b = True\n",
        "print(type(b))\n",
        "print(b)\n",
        "\n",
        "c = 5 + 0j\n",
        "print(type(c))\n",
        "print(c)\n",
        "\n",
        "l = ['amir' , 'ali' , 'sara']\n",
        "print(type(l))\n",
        "print(l)\n",
        "\n",
        "t = ('amir' , 'ali' , 'sara')\n",
        "print(type(t))\n",
        "print(t)\n",
        "\n",
        "d = {'amir' : '40018263' , 'mehrabani' : 'your last name'}\n",
        "print(type(d))\n",
        "print(d)\n",
        "\n",
        "se = {'amir' , 'ali' , 'sara' , 'ali'}\n",
        "print(type(se))\n",
        "print(se)"
      ],
      "metadata": {
        "id": "qxO6rh9oJkGZ"
      },
      "execution_count": null,
      "outputs": []
    },
    {
      "cell_type": "code",
      "source": [
        "\"\"\"\n",
        "var name\n",
        "\"\"\"\n",
        "print('2a'.isidentifier())\n",
        "print('a2'.isidentifier())\n",
        "print('_var'.isidentifier())\n",
        "print('a_var'.isidentifier())\n",
        "print('a-var'.isidentifier())\n",
        "print('2a_var'.isidentifier())\n",
        "print('a var'.isidentifier())\n",
        "print('&var'.isidentifier())\n",
        "print('#var'.isidentifier())"
      ],
      "metadata": {
        "id": "QXBrbhtaN7j2"
      },
      "execution_count": null,
      "outputs": []
    },
    {
      "cell_type": "code",
      "source": [
        "from keyword import iskeyword"
      ],
      "metadata": {
        "id": "0JkNZZm-PZbJ"
      },
      "execution_count": null,
      "outputs": []
    },
    {
      "cell_type": "code",
      "source": [
        "\"\"\"\n",
        "keyword\n",
        "\"\"\"\n",
        "print(iskeyword('True'))\n",
        "print(iskeyword('if'))\n",
        "print(iskeyword('true'))\n",
        "print(iskeyword('while'))\n",
        "print(iskeyword('for'))\n",
        "print(iskeyword('While'))\n",
        "print(iskeyword('str'))"
      ],
      "metadata": {
        "id": "_OUjK9b-PgvX"
      },
      "execution_count": null,
      "outputs": []
    },
    {
      "cell_type": "code",
      "source": [
        "\"\"\"\n",
        "type Casting\n",
        "\"\"\"\n",
        "a = 5\n",
        "print(float(a))\n",
        "print(complex(a))\n",
        "print(bool(a))\n",
        "\n",
        "print()\n",
        "\n",
        "srt = '13'\n",
        "print(srt + '1')\n",
        "print(int(srt) + 1)\n",
        "print(float(srt) + 1)"
      ],
      "metadata": {
        "id": "1YerKog9QaNq"
      },
      "execution_count": null,
      "outputs": []
    },
    {
      "cell_type": "code",
      "source": [
        "\"\"\"\n",
        "%i & %f & %e\n",
        "\"\"\"\n",
        "n = 123.3423\n",
        "print('%i' %n)\n",
        "print('%f' %n)\n",
        "print('%e' %n)\n",
        "\n",
        "print()\n",
        "\n",
        "m = 0.000234\n",
        "print('%i' %m)\n",
        "print('%f' %m)\n",
        "print('%e' %m)"
      ],
      "metadata": {
        "id": "KClPEHnxSwiY"
      },
      "execution_count": null,
      "outputs": []
    },
    {
      "cell_type": "code",
      "source": [
        "\"\"\"\n",
        "a = 5  ,  b = 1\n",
        "f --> {a , b} --> 6 \n",
        "\"\"\"\n",
        "a = 5\n",
        "b = 1\n",
        "print('five plus one = {a + b}')\n",
        "print()\n",
        "print(f'five plus one = {a , b}')\n",
        "print()\n",
        "print(f'filve plus one = {a + b}')"
      ],
      "metadata": {
        "id": "1Busv7gNTtp3"
      },
      "execution_count": null,
      "outputs": []
    },
    {
      "cell_type": "code",
      "source": [
        "\"\"\"\n",
        "swap\n",
        "\"\"\"\n",
        "a = 5\n",
        "b = 10\n",
        "a , b = b , a\n",
        "print(a)\n",
        "print(b)\n",
        "\n",
        "print()\n",
        "\n",
        "x = 5 \n",
        "y = 10\n",
        "x , y = y , y + x\n",
        "print(x)\n",
        "print(y)"
      ],
      "metadata": {
        "id": "iToym9PPUlr-"
      },
      "execution_count": null,
      "outputs": []
    },
    {
      "cell_type": "code",
      "source": [
        "\"\"\"\n",
        "--- string slicing ---\n",
        "\"\"\"\n",
        "v = \"Amirreza Mehrabani\"\n",
        "print(v[0:5])\n",
        "print(v[:])\n",
        "print(v[4:])\n",
        "print(v[5:8])\n",
        "print(v[3:7])\n",
        "print(v[0:])\n",
        "print(v[0:8])\n",
        "print(v[-9:-1])\n",
        "print(v[-1])"
      ],
      "metadata": {
        "id": "JjJT6ohPVyhr"
      },
      "execution_count": null,
      "outputs": []
    },
    {
      "cell_type": "code",
      "source": [
        "\"\"\"\n",
        "Reciving input\n",
        "\"\"\"\n",
        "g = int(input('enter first integer: '))\n",
        "h = int(input('enter second integer: '))\n",
        "print(g + h)"
      ],
      "metadata": {
        "id": "Dth7qWQJXb2r"
      },
      "execution_count": null,
      "outputs": []
    }
  ]
}