{
  "nbformat": 4,
  "nbformat_minor": 0,
  "metadata": {
    "colab": {
      "provenance": []
    },
    "kernelspec": {
      "name": "python3",
      "display_name": "Python 3"
    },
    "language_info": {
      "name": "python"
    }
  },
  "cells": [
    {
      "cell_type": "markdown",
      "source": [
        "# ***Operators***"
      ],
      "metadata": {
        "id": "sWFtK6mDw7hT"
      }
    },
    {
      "cell_type": "code",
      "execution_count": null,
      "metadata": {
        "id": "QStzJ5yt7qlK"
      },
      "outputs": [],
      "source": [
        "#simple Operation\n",
        "a = int(input('enter a: '))\n",
        "b = int(input('enter b: '))\n",
        "print('simple Operation:\\n')\n",
        "print(a + b)\n",
        "print(a - b)\n",
        "print(a * b)\n",
        "print(a / b)\n",
        "print(a // b)\n",
        "print(a % b)\n",
        "print(b % a)\n",
        "print()\n",
        "\n",
        "#exponentioal\n",
        "print(a ** b)\n",
        "print(a ** 0)\n",
        "print(0 ** a)\n",
        "print(0 ** 0)"
      ]
    },
    {
      "cell_type": "code",
      "source": [
        "#Precedence of operators\n",
        "c = int(input('enter c: '))\n",
        "d = int(input('enter d: '))\n",
        "print(a + c * b + d)\n",
        "print(a + c + b * d)\n",
        "print(a * b / c + d)\n",
        "print(a * b / c ** d)\n",
        "print(a ** b ** c)\n",
        "print()\n",
        "\n",
        "#combinational Operation\n",
        "a += 3\n",
        "b /= 2\n",
        "c *= 2\n",
        "d //= 3 \n",
        "print(a)\n",
        "print(b)\n",
        "print(c)\n",
        "print(d)\n",
        "a **= 1\n",
        "print(a)"
      ],
      "metadata": {
        "id": "UK5U8GhWyTTy"
      },
      "execution_count": null,
      "outputs": []
    },
    {
      "cell_type": "code",
      "source": [
        "#compiration Opoerating\n",
        "print(2 == 3)\n",
        "print(2 == 2)\n",
        "print(43 != 32)\n",
        "print(32 < 43)\n",
        "print()\n",
        "\n",
        "#logical Operating\n",
        "print(4 > 3 and 5 > 2)\n",
        "print(2 > 3 or 4 < 6)\n",
        "print(not 4 < 3)\n",
        "print(3 < 1 and (4 / 0) > 3)\n",
        "#print(3 > 1 and (4 / 0) > 3)    ERROR\n",
        "print(3 > 1 or (4 / 0) > 3)\n",
        "#print(3 < 1 or (4 / 0) > 3)     ERROR\n"
      ],
      "metadata": {
        "id": "oLYuWE7Az3Wo"
      },
      "execution_count": null,
      "outputs": []
    },
    {
      "cell_type": "code",
      "source": [
        "#membership Operation \n",
        "x = [1,2,3,4,5]\n",
        "print(3 in x)\n",
        "print(7 in x)\n",
        "print(not 7 in x)\n",
        "print()\n",
        "\n",
        "#betwise Operation\n",
        "e = 13 \n",
        "f = 34\n",
        "print(bin(e))\n",
        "print(bin(f))\n",
        "print()\n",
        "print(e | f)\n",
        "print(e & f)\n",
        "print(e ^ f)\n",
        "print()\n",
        "\n",
        "#shift Operation\n",
        "# >> or << \n",
        "print(34 >> 1)\n",
        "print(34 >> 2)\n",
        "print(2 << 1)\n",
        "print(2 << 4)"
      ],
      "metadata": {
        "id": "Pp3zxCZh2nQg"
      },
      "execution_count": null,
      "outputs": []
    },
    {
      "cell_type": "code",
      "source": [
        "# --- Operation on string ---\n",
        "s1 = 'amirreza '\n",
        "s2 = 'mehrabani'\n",
        "print(s1 + s2)\n",
        "print(s1 * 2)\n",
        "print(s1 * 3)\n",
        "\n",
        "s1 = 'amirreza'\n",
        "s2 = 'amirreza'\n",
        "print(id(s1))\n",
        "print(id(s2))\n",
        "print(id(s1) == id(s2))\n",
        "s2 += ' mehrabni'\n",
        "print(id(s1))\n",
        "print(id(s2))\n",
        "print(id(s1) == id(s2))"
      ],
      "metadata": {
        "id": "h0TRhF-L50KZ"
      },
      "execution_count": null,
      "outputs": []
    }
  ]
}