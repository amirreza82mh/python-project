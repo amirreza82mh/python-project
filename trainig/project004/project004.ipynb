{
  "nbformat": 4,
  "nbformat_minor": 0,
  "metadata": {
    "colab": {
      "provenance": []
    },
    "kernelspec": {
      "name": "python3",
      "display_name": "Python 3"
    },
    "language_info": {
      "name": "python"
    }
  },
  "cells": [
    {
      "cell_type": "markdown",
      "source": [
        "#**Gettin to know : if ,else if ,if else ,elif**"
      ],
      "metadata": {
        "id": "alNFP9T2pKoE"
      }
    },
    {
      "cell_type": "code",
      "execution_count": null,
      "metadata": {
        "colab": {
          "base_uri": "https://localhost:8080/"
        },
        "id": "rEhe2f-MpDGj",
        "outputId": "51af6349-69a6-4422-9ae4-44ad5c782150"
      },
      "outputs": [
        {
          "output_type": "stream",
          "name": "stdout",
          "text": [
            "Enter a:5\n",
            "Enter b:4\n",
            "5\n",
            "4\n",
            "gol mamad\n",
            "gholam\n"
          ]
        }
      ],
      "source": [
        "#if\n",
        "a = int(input('Enter a:'))\n",
        "b = int(input('Enter b:'))\n",
        "\n",
        "if a>b : \n",
        "  print(a)\n",
        "print(b)\n",
        "\n",
        "if True :\n",
        "  print('gol mamad')\n",
        "print('gholam')"
      ]
    },
    {
      "cell_type": "code",
      "source": [
        "\"\"\"if else\"\"\"\n",
        "\n",
        "#1\n",
        "x = int(input('Enter x:'))\n",
        "if x%2 == 0 :\n",
        "  print('even')\n",
        "else :\n",
        "  print('odd')\n",
        "print('================')\n",
        "\n",
        "#2\n",
        "y = int(input('Enter y:'))\n",
        "if x>y :\n",
        "  print('x is bigger')\n",
        "else :\n",
        "  print('y is bigger')\n",
        "print('================') \n",
        "\n",
        "\"\"\"conditional expression\"\"\"\n",
        "#1_1\n",
        "print('even' if x%2 == 0 else 'odd')\n",
        "print('================')\n",
        "\n",
        "#2-2\n",
        "print('x is bigger' if x > y else 'y isbigger')\n",
        "\n",
        "#3\n",
        "s = ['a' , 'e' , 'o' , 'i' , 'u']\n",
        "print('yes' if('o' in s) else 'no')\n",
        "\n",
        "\"\"\" nested if \"\"\"\n",
        "today = 'holidey'\n",
        "money = 2500 \n",
        "\n",
        "if today == 'holiday' :\n",
        "  if money >= 2000 :\n",
        "    print('go shopping')\n",
        "  else :\n",
        "    print('watching TV')\n",
        "else :\n",
        "  print('normal working day')"
      ],
      "metadata": {
        "colab": {
          "base_uri": "https://localhost:8080/"
        },
        "id": "OoAR5Zowqosf",
        "outputId": "12f9ea68-8a39-4679-c7d9-22762ca3b453"
      },
      "execution_count": null,
      "outputs": [
        {
          "output_type": "stream",
          "name": "stdout",
          "text": [
            "Enter x:5\n",
            "odd\n",
            "================\n",
            "Enter y:4\n",
            "x is bigger\n",
            "================\n",
            "odd\n",
            "================\n",
            "x is bigger\n",
            "yes\n",
            "normal working day\n"
          ]
        }
      ]
    },
    {
      "cell_type": "code",
      "source": [
        "\"\"\" else if \"\"\"\n",
        "grade = int(input('Enter grade:'))\n",
        "\n",
        "if grade >= 90 and grade <= 100 :\n",
        "  print('A')\n",
        "else :\n",
        "  if grade >= 80 and grade < 90 :\n",
        "    print('B')\n",
        "  else :\n",
        "    if grade >= 70 and grade < 80 :\n",
        "      print('C')\n",
        "    else :\n",
        "      if grade >= 0 and grade < 70 :\n",
        "        print('d')\n",
        "      else :\n",
        "        print('invalid grade :(') \n",
        "\n",
        "print('================================')\n",
        "\n",
        "\"\"\" elif \"\"\"\n",
        "grade = int(input('Enter grade:'))\n",
        "\n",
        "if grade >= 90  and grade <= 100 :\n",
        "  print('A')\n",
        "elif grade >= 80 and grade < 90 :\n",
        "  print('B')\n",
        "elif grade >= 70 and grade < 80 :\n",
        "  print('C')\n",
        "elif grade >= 0 and grade < 70 :\n",
        "  print('D')\n",
        "else :\n",
        "  print('invalid number')   "
      ],
      "metadata": {
        "colab": {
          "base_uri": "https://localhost:8080/"
        },
        "id": "R9fls5v-tYUR",
        "outputId": "d5469f7b-b64b-405b-ce08-289b5e9e3a2b"
      },
      "execution_count": null,
      "outputs": [
        {
          "output_type": "stream",
          "name": "stdout",
          "text": [
            "Enter grade:5\n",
            "d\n",
            "================================\n",
            "Enter grade:95\n",
            "A\n"
          ]
        }
      ]
    },
    {
      "cell_type": "code",
      "source": [
        "\"\"\" bmi Example \"\"\"\n",
        "w = 85\n",
        "h = 1.85\n",
        "bmi = w / (h*h)\n",
        "\n",
        "print(bmi)\n",
        "\n",
        "if bmi < 16 :\n",
        "  print('very skinny')\n",
        "elif bmi >= 16 and bmi < 18.5 :\n",
        "  print('slim')\n",
        "elif bmi >= 18.5 and bmi < 25 :\n",
        "  print('normal')\n",
        "elif bmi >= 25 and bmi < 35 :\n",
        "  print('fat')\n",
        "elif bmi >= 35 and bmi < 40 :\n",
        "  print('class 2 fat')\n",
        "else :\n",
        "  print('class 3 fat')"
      ],
      "metadata": {
        "colab": {
          "base_uri": "https://localhost:8080/"
        },
        "id": "o99koBQ6yLk4",
        "outputId": "c5170f33-d6db-4d04-9788-fe30f3b00331"
      },
      "execution_count": null,
      "outputs": [
        {
          "output_type": "stream",
          "name": "stdout",
          "text": [
            "24.835646457268076\n",
            "normal\n"
          ]
        }
      ]
    }
  ]
}