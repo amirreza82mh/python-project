{
  "nbformat": 4,
  "nbformat_minor": 0,
  "metadata": {
    "colab": {
      "provenance": []
    },
    "kernelspec": {
      "name": "python3",
      "display_name": "Python 3"
    },
    "language_info": {
      "name": "python"
    }
  },
  "cells": [
    {
      "cell_type": "markdown",
      "source": [
        "# **Math Method.**"
      ],
      "metadata": {
        "id": "O5n8W8tuY8s2"
      }
    },
    {
      "cell_type": "code",
      "execution_count": null,
      "metadata": {
        "id": "waYbkvTqXtBu"
      },
      "outputs": [],
      "source": [
        "#whith out importing math\n",
        "print(abs(-5))\n",
        "print(abs.__doc__)      \n",
        "print(pow(4 , 3))    # 4*4*4\n",
        "print(divmod(15,3))  # (15/3 , 15%3)\n",
        "print(round(5.3))    # 5\n",
        "print(round(5.6))    # 6"
      ]
    },
    {
      "cell_type": "code",
      "source": [
        "#whith importing math\n",
        "import math\n",
        "print(math.sqrt(4))\n",
        "print(math.log10(100))\n",
        "print(math.log(100))\n",
        "print(math.log(math.e))\n",
        "print(math.floor(6.7))\n",
        "print(math.ceil(6.1))\n",
        "print(math.fmod(34 , 4))\n",
        "print(math.fmod(15 , 3))\n",
        "print(math.pow(4 , 3))\n",
        "print(math.trunc(3.9999))\n",
        "print(math.factorial(3))\n",
        "print(math.pi)\n",
        "print(f'{math.pi :.2f}')"
      ],
      "metadata": {
        "id": "TEPzHpkuZMXM"
      },
      "execution_count": null,
      "outputs": []
    },
    {
      "cell_type": "code",
      "source": [
        "#random method\n",
        "import random\n",
        "\n",
        "print(random.randint(1 , 5))\n",
        "print(random.choice([1 , 5]))\n",
        "a = [1 , 3 , 5 , 7]\n",
        "print(random.choice(a))\n",
        "print(random.shuffle(a))\n",
        "print(a)\n",
        "print(random.shuffle(a))\n",
        "print(a)\n",
        "print(random.shuffle(a))\n",
        "print(a)"
      ],
      "metadata": {
        "id": "gZPT3yKYdBlo"
      },
      "execution_count": null,
      "outputs": []
    },
    {
      "cell_type": "code",
      "source": [
        "#date time\n",
        "import datetime\n",
        "now = datetime.datetime.now()\n",
        "print(now)\n",
        "print(now.year)\n",
        "print(now.day)\n",
        "print(now.month)"
      ],
      "metadata": {
        "colab": {
          "base_uri": "https://localhost:8080/"
        },
        "id": "NHPFA6AWf8XW",
        "outputId": "1612f59e-f78b-433f-bf5c-da3ca527cd25"
      },
      "execution_count": null,
      "outputs": [
        {
          "output_type": "stream",
          "name": "stdout",
          "text": [
            "2023-02-21 05:48:01.321915\n",
            "2023\n",
            "21\n",
            "2\n"
          ]
        }
      ]
    },
    {
      "cell_type": "code",
      "source": [
        "#sys and os and platform\n",
        "import sys \n",
        "import os\n",
        "import platform\n",
        "\n",
        "print(sys.version)\n",
        "print(sys.platform)\n",
        "print(platform.release)\n",
        "print(os.getcwd)"
      ],
      "metadata": {
        "colab": {
          "base_uri": "https://localhost:8080/"
        },
        "id": "-1kA_j0yg9aG",
        "outputId": "2a85ccec-dbdb-4985-fddd-f4e4b2e0a1fb"
      },
      "execution_count": null,
      "outputs": [
        {
          "output_type": "stream",
          "name": "stdout",
          "text": [
            "3.8.10 (default, Nov 14 2022, 12:59:47) \n",
            "[GCC 9.4.0]\n",
            "linux\n",
            "<function release at 0x7f7674ae78b0>\n",
            "<built-in function getcwd>\n"
          ]
        }
      ]
    }
  ]
}