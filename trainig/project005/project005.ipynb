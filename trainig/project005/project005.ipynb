{
  "nbformat": 4,
  "nbformat_minor": 0,
  "metadata": {
    "colab": {
      "provenance": []
    },
    "kernelspec": {
      "name": "python3",
      "display_name": "Python 3"
    },
    "language_info": {
      "name": "python"
    }
  },
  "cells": [
    {
      "cell_type": "markdown",
      "source": [
        "# **loop:**\n",
        "\n",
        "*   for \n",
        "*   while\n",
        "\n"
      ],
      "metadata": {
        "id": "tRsZV9y1euCy"
      }
    },
    {
      "cell_type": "code",
      "execution_count": null,
      "metadata": {
        "id": "TgQSRz3KeF2K"
      },
      "outputs": [],
      "source": [
        "#for \n",
        "\n",
        "for i in range(5):\n",
        "  print(i , end = ' ')\n",
        "\n",
        "print('\\n=================\\n')\n",
        "\n",
        "for i in range(2 , 7):\n",
        "  print(i , end = ' ')\n",
        "\n",
        "print('\\n=================\\n')\n",
        "\n",
        "for i in range(3 , 10 , 2):\n",
        "  print(i , end = ' ')\n",
        "\n",
        "print('\\n=================\\n')\n",
        "\n",
        "for i in range(10 , 3 , -3):\n",
        "  print(i , end = ' ')\n",
        "\n",
        "print('\\n=================\\n')\n",
        "\n",
        "#loop without variable\n",
        "for _ in range(2):\n",
        "  print('hello')"
      ]
    },
    {
      "cell_type": "code",
      "source": [
        "#string in loop\n",
        "\n",
        "s = 'amirreza'\n",
        "v = 'aeiuo'\n",
        "for i in s:\n",
        "  print(i)\n",
        "\n",
        "print('\\n=================\\n')\n",
        "\n",
        "c = 0\n",
        "for i in s:\n",
        "  if i == 'a':\n",
        "    c += 1\n",
        "\n",
        "print('\\n=================\\n')\n",
        "\n",
        "z = 0\n",
        "for i in s:\n",
        "  if i in v:\n",
        "    z += 1\n",
        "    print(i)\n",
        "\n",
        "print('\\n=================\\n')\n",
        "#wtf\n",
        "a = [i for i in s if i in v]\n",
        "print(a)"
      ],
      "metadata": {
        "id": "yOPX-AlegA57"
      },
      "execution_count": null,
      "outputs": []
    },
    {
      "cell_type": "code",
      "source": [
        "#nisted loop\n",
        "for i in range(3):\n",
        "  for j in range(1 , 4):\n",
        "    print(j , end = ' ')\n",
        "  print()\n",
        "\n",
        "print('\\n=================\\n')\n",
        "\n",
        "for i in range(2 , 5):\n",
        "  for j in range(0 , i):\n",
        "    print(j , end = ' ')\n",
        "  print()\n",
        "\n",
        "print('\\n=================\\n')\n",
        "\n",
        "for i in range(2 , 5):\n",
        "  for j in range(1 , i):\n",
        "    print(j , end = ' ')\n",
        "  print()"
      ],
      "metadata": {
        "id": "cH-TGirMiBM4"
      },
      "execution_count": null,
      "outputs": []
    },
    {
      "cell_type": "code",
      "source": [
        "#break and continue\n",
        "for i in range(6):\n",
        "  if i == 3:\n",
        "    break\n",
        "  print(i , end = ' ')\n",
        "\n",
        "print('\\n=================\\n')\n",
        "\n",
        "for i in range(6):\n",
        "  if i == 3:\n",
        "    continue\n",
        "  print(i , end = ' ')\n",
        "\n",
        "print('\\n=================\\n')\n",
        "\n",
        "for i in range(2 , 10):\n",
        "  for j in range(2 , i):\n",
        "    if i % j == 0:\n",
        "      break\n",
        "  else:\n",
        "    print(i , end = ' ')\n",
        "    \n",
        "    \n",
        "\n",
        "print('\\n=================\\n')\n",
        "\n",
        "print('1' , end = ' ' )\n",
        "print('2' , end = ' ' )\n",
        "for i in range(2 , 10):\n",
        "  for j in range(2 , i):\n",
        "    if i % j == 0:\n",
        "      print(i , end = ' ')\n",
        "      break"
      ],
      "metadata": {
        "id": "kU8FZY4GkH0f"
      },
      "execution_count": null,
      "outputs": []
    },
    {
      "cell_type": "code",
      "source": [
        "#while\n",
        "i = 1 \n",
        "while i <= 3:\n",
        "  print(i , end = ' ')\n",
        "  i += 1\n",
        "\n",
        "print('\\n=================\\n')\n",
        "\n",
        "n = 5 \n",
        "while n <= 9:\n",
        "  print(i , end = ' ')\n",
        "  n += 1\n",
        "\n",
        "print('\\n=================\\n')\n",
        "\n",
        "j = 6\n",
        "while j > 2:\n",
        "  print(j , end = ' ')\n",
        "  j -= 1\n",
        "\n",
        "print('\\n=================\\n')\n",
        "\n",
        "s = 'abcdef'\n",
        "k = 0\n",
        "while True:\n",
        "  if s[k] == 'd':\n",
        "    break\n",
        "  else:\n",
        "    print(s[k] , end = ' ')\n",
        "    k += 1\n",
        "\n",
        "print('\\n=================\\n')\n",
        "\n",
        "a = 0\n",
        "b = 1\n",
        "while a < 10:\n",
        "    print(a,end=' ')  \n",
        "    a = b\n",
        "    b = a+b\n",
        "\n",
        "print('\\n=================\\n')\n",
        "\n",
        "a = 0\n",
        "b = 1\n",
        "while a < 10:\n",
        "    print(a,end=' ')   \n",
        "    a  , b = b , a+b"
      ],
      "metadata": {
        "id": "JmXsfM5QowLa"
      },
      "execution_count": null,
      "outputs": []
    },
    {
      "cell_type": "code",
      "source": [
        "#game\n",
        "import random\n",
        "n = random.randint(0 , 10)\n",
        "while True:\n",
        "  i = int(input('Enter an integer(0 - 10)'))\n",
        "  if i > n:\n",
        "    print('smaller')\n",
        "  elif i < n:\n",
        "    print('bigger')\n",
        "  else:\n",
        "    print('True')\n",
        "    break\n",
        "\n",
        "print('game over')"
      ],
      "metadata": {
        "id": "5c_RShEaqahJ"
      },
      "execution_count": null,
      "outputs": []
    }
  ]
}